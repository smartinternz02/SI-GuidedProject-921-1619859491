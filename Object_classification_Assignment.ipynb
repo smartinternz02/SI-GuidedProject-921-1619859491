{
 "cells": [
  {
   "cell_type": "code",
   "execution_count": 16,
   "metadata": {},
   "outputs": [],
   "source": [
    "from tensorflow.keras.models import Sequential\n",
    "from tensorflow.keras.layers import Dense\n",
    "from tensorflow.keras.layers import Convolution2D\n",
    "from tensorflow.keras.layers import MaxPooling2D\n",
    "from tensorflow.keras.layers import Flatten"
   ]
  },
  {
   "cell_type": "code",
   "execution_count": 17,
   "metadata": {},
   "outputs": [],
   "source": [
    "from keras.preprocessing.image import ImageDataGenerator\n",
    "train_datagen=ImageDataGenerator(rescale=1./255,shear_range=0.2,zoom_range=0.2,horizontal_flip=True)\n",
    "test_datagen=ImageDataGenerator(rescale=1./255)\n"
   ]
  },
  {
   "cell_type": "code",
   "execution_count": 19,
   "metadata": {},
   "outputs": [
    {
     "name": "stdout",
     "output_type": "stream",
     "text": [
      "Found 350 images belonging to 5 classes.\n",
      "Found 150 images belonging to 5 classes.\n"
     ]
    }
   ],
   "source": [
    "x_train=train_datagen.flow_from_directory(r\"C:\\Users\\User\\Desktop\\Front end\\images data\\trainset\",target_size=(64,64),batch_size=32,class_mode=\"categorical\")\n",
    "x_test=test_datagen.flow_from_directory(r\"C:\\Users\\User\\Desktop\\Front end\\images data\\testset\",target_size=(64,64),batch_size=32,class_mode=\"categorical\")"
   ]
  },
  {
   "cell_type": "code",
   "execution_count": 20,
   "metadata": {},
   "outputs": [],
   "source": [
    "model = Sequential()\n"
   ]
  },
  {
   "cell_type": "code",
   "execution_count": 21,
   "metadata": {},
   "outputs": [],
   "source": [
    "model.add(Convolution2D(32,(3,3),input_shape=(64,64,3),activation=\"relu\"))"
   ]
  },
  {
   "cell_type": "code",
   "execution_count": 22,
   "metadata": {},
   "outputs": [],
   "source": [
    "model.add(MaxPooling2D(2,2))"
   ]
  },
  {
   "cell_type": "code",
   "execution_count": 23,
   "metadata": {},
   "outputs": [],
   "source": [
    "model.add(Flatten())\n"
   ]
  },
  {
   "cell_type": "code",
   "execution_count": 24,
   "metadata": {},
   "outputs": [],
   "source": [
    "model.add(Dense(units = 512,activation=\"relu\",kernel_initializer=\"random_uniform\"))"
   ]
  },
  {
   "cell_type": "code",
   "execution_count": 25,
   "metadata": {},
   "outputs": [],
   "source": [
    "model.add(Dense(units = 5,activation=\"softmax\",kernel_initializer=\"random_uniform\"))"
   ]
  },
  {
   "cell_type": "code",
   "execution_count": 26,
   "metadata": {},
   "outputs": [],
   "source": [
    "model.compile(\"sgd\",loss=\"categorical_crossentropy\",metrics=[\"accuracy\"])"
   ]
  },
  {
   "cell_type": "code",
   "execution_count": 29,
   "metadata": {},
   "outputs": [
    {
     "name": "stdout",
     "output_type": "stream",
     "text": [
      "Epoch 1/30\n",
      "11/11 [==============================] - 2s 177ms/step - loss: 0.5217 - acc: 0.8086 - val_loss: 0.5672 - val_acc: 0.7933\n",
      "Epoch 2/30\n",
      "11/11 [==============================] - 2s 148ms/step - loss: 0.4776 - acc: 0.8171 - val_loss: 0.4917 - val_acc: 0.8000\n",
      "Epoch 3/30\n",
      "11/11 [==============================] - 2s 148ms/step - loss: 0.4510 - acc: 0.8257 - val_loss: 0.7530 - val_acc: 0.6867\n",
      "Epoch 4/30\n",
      "11/11 [==============================] - 2s 166ms/step - loss: 0.4987 - acc: 0.8029 - val_loss: 0.4929 - val_acc: 0.8133\n",
      "Epoch 5/30\n",
      "11/11 [==============================] - 2s 150ms/step - loss: 0.4573 - acc: 0.8514 - val_loss: 0.6354 - val_acc: 0.7933\n",
      "Epoch 6/30\n",
      "11/11 [==============================] - 2s 146ms/step - loss: 0.4444 - acc: 0.8629 - val_loss: 0.4899 - val_acc: 0.8000\n",
      "Epoch 7/30\n",
      "11/11 [==============================] - 2s 181ms/step - loss: 0.4353 - acc: 0.8371 - val_loss: 0.4915 - val_acc: 0.8333\n",
      "Epoch 8/30\n",
      "11/11 [==============================] - 2s 157ms/step - loss: 0.4372 - acc: 0.8371 - val_loss: 0.4684 - val_acc: 0.8333\n",
      "Epoch 9/30\n",
      "11/11 [==============================] - 2s 162ms/step - loss: 0.4363 - acc: 0.8171 - val_loss: 0.7881 - val_acc: 0.7533\n",
      "Epoch 10/30\n",
      "11/11 [==============================] - 2s 139ms/step - loss: 0.4758 - acc: 0.8200 - val_loss: 0.4945 - val_acc: 0.8333\n",
      "Epoch 11/30\n",
      "11/11 [==============================] - 2s 153ms/step - loss: 0.4088 - acc: 0.8714 - val_loss: 0.4363 - val_acc: 0.8333\n",
      "Epoch 12/30\n",
      "11/11 [==============================] - 2s 146ms/step - loss: 0.3877 - acc: 0.8571 - val_loss: 0.5146 - val_acc: 0.8067\n",
      "Epoch 13/30\n",
      "11/11 [==============================] - 2s 172ms/step - loss: 0.4055 - acc: 0.8457 - val_loss: 0.4929 - val_acc: 0.8133\n",
      "Epoch 14/30\n",
      "11/11 [==============================] - 2s 164ms/step - loss: 0.3867 - acc: 0.8543 - val_loss: 0.4882 - val_acc: 0.8333\n",
      "Epoch 15/30\n",
      "11/11 [==============================] - 2s 166ms/step - loss: 0.3778 - acc: 0.8686 - val_loss: 0.4959 - val_acc: 0.8467\n",
      "Epoch 16/30\n",
      "11/11 [==============================] - 2s 166ms/step - loss: 0.3707 - acc: 0.8686 - val_loss: 0.4118 - val_acc: 0.8667\n",
      "Epoch 17/30\n",
      "11/11 [==============================] - 2s 163ms/step - loss: 0.3537 - acc: 0.8714 - val_loss: 0.4184 - val_acc: 0.8600\n",
      "Epoch 18/30\n",
      "11/11 [==============================] - 2s 162ms/step - loss: 0.3874 - acc: 0.8486 - val_loss: 0.4449 - val_acc: 0.8400\n",
      "Epoch 19/30\n",
      "11/11 [==============================] - 2s 160ms/step - loss: 0.3608 - acc: 0.8571 - val_loss: 0.5213 - val_acc: 0.7933\n",
      "Epoch 20/30\n",
      "11/11 [==============================] - 2s 169ms/step - loss: 0.3410 - acc: 0.8571 - val_loss: 0.4849 - val_acc: 0.8533\n",
      "Epoch 21/30\n",
      "11/11 [==============================] - 2s 171ms/step - loss: 0.4141 - acc: 0.8429 - val_loss: 0.3992 - val_acc: 0.8667\n",
      "Epoch 22/30\n",
      "11/11 [==============================] - 2s 164ms/step - loss: 0.3765 - acc: 0.8543 - val_loss: 0.4420 - val_acc: 0.8400\n",
      "Epoch 23/30\n",
      "11/11 [==============================] - 2s 170ms/step - loss: 0.3426 - acc: 0.8857 - val_loss: 0.4942 - val_acc: 0.8400\n",
      "Epoch 24/30\n",
      "11/11 [==============================] - 2s 174ms/step - loss: 0.3198 - acc: 0.8857 - val_loss: 0.4309 - val_acc: 0.8333\n",
      "Epoch 25/30\n",
      "11/11 [==============================] - 2s 181ms/step - loss: 0.3211 - acc: 0.8829 - val_loss: 0.5050 - val_acc: 0.8400\n",
      "Epoch 26/30\n",
      "11/11 [==============================] - 2s 163ms/step - loss: 0.3171 - acc: 0.8743 - val_loss: 0.3952 - val_acc: 0.8533\n",
      "Epoch 27/30\n",
      "11/11 [==============================] - 2s 201ms/step - loss: 0.3152 - acc: 0.8857 - val_loss: 0.7965 - val_acc: 0.7267\n",
      "Epoch 28/30\n",
      "11/11 [==============================] - 2s 184ms/step - loss: 0.3618 - acc: 0.8514 - val_loss: 0.3873 - val_acc: 0.8733\n",
      "Epoch 29/30\n",
      "11/11 [==============================] - 2s 181ms/step - loss: 0.2885 - acc: 0.9000 - val_loss: 0.4037 - val_acc: 0.8533\n",
      "Epoch 30/30\n",
      "11/11 [==============================] - 2s 184ms/step - loss: 0.3065 - acc: 0.9029 - val_loss: 0.4113 - val_acc: 0.8600\n"
     ]
    },
    {
     "data": {
      "text/plain": [
       "<tensorflow.python.keras.callbacks.History at 0x29129c692b0>"
      ]
     },
     "execution_count": 29,
     "metadata": {},
     "output_type": "execute_result"
    }
   ],
   "source": [
    "model.fit_generator(x_train,steps_per_epoch=11,epochs=30,validation_data= x_test,validation_steps=5)"
   ]
  },
  {
   "cell_type": "code",
   "execution_count": 30,
   "metadata": {},
   "outputs": [],
   "source": [
    "model.save(\"object_assignment.h5\")"
   ]
  },
  {
   "cell_type": "code",
   "execution_count": null,
   "metadata": {},
   "outputs": [],
   "source": []
  },
  {
   "cell_type": "code",
   "execution_count": null,
   "metadata": {},
   "outputs": [],
   "source": []
  }
 ],
 "metadata": {
  "kernelspec": {
   "display_name": "Python 3",
   "language": "python",
   "name": "python3"
  },
  "language_info": {
   "codemirror_mode": {
    "name": "ipython",
    "version": 3
   },
   "file_extension": ".py",
   "mimetype": "text/x-python",
   "name": "python",
   "nbconvert_exporter": "python",
   "pygments_lexer": "ipython3",
   "version": "3.7.3"
  }
 },
 "nbformat": 4,
 "nbformat_minor": 2
}
